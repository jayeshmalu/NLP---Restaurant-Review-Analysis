{
 "cells": [
  {
   "cell_type": "markdown",
   "metadata": {
    "colab_type": "text",
    "id": "VwK5-9FIB-lu"
   },
   "source": [
    "# Natural Language Processing"
   ]
  },
  {
   "cell_type": "markdown",
   "metadata": {
    "colab_type": "text",
    "id": "X1kiO9kACE6s"
   },
   "source": [
    "## Importing the libraries"
   ]
  },
  {
   "cell_type": "code",
   "execution_count": 1,
   "metadata": {
    "colab": {},
    "colab_type": "code",
    "id": "7QG7sxmoCIvN"
   },
   "outputs": [],
   "source": [
    "import numpy as np\n",
    "import matplotlib.pyplot as plt\n",
    "import pandas as pd\n",
    "import warnings\n",
    "warnings.filterwarnings(\"ignore\", category=DeprecationWarning) \n",
    "warnings.simplefilter(action='ignore', category=FutureWarning)\n",
    "import tensorflow as tf\n"
   ]
  },
  {
   "cell_type": "markdown",
   "metadata": {
    "colab_type": "text",
    "id": "wTfaCIzdCLPA"
   },
   "source": [
    "## Importing the dataset"
   ]
  },
  {
   "cell_type": "code",
   "execution_count": 2,
   "metadata": {
    "colab": {},
    "colab_type": "code",
    "id": "UCK6vQ5QCQJe"
   },
   "outputs": [],
   "source": [
    "dataset = pd.read_csv('Restaurant_Reviews.tsv', delimiter = '\\t', quoting = 3)"
   ]
  },
  {
   "cell_type": "code",
   "execution_count": 3,
   "metadata": {},
   "outputs": [
    {
     "data": {
      "text/html": [
       "<div>\n",
       "<style scoped>\n",
       "    .dataframe tbody tr th:only-of-type {\n",
       "        vertical-align: middle;\n",
       "    }\n",
       "\n",
       "    .dataframe tbody tr th {\n",
       "        vertical-align: top;\n",
       "    }\n",
       "\n",
       "    .dataframe thead th {\n",
       "        text-align: right;\n",
       "    }\n",
       "</style>\n",
       "<table border=\"1\" class=\"dataframe\">\n",
       "  <thead>\n",
       "    <tr style=\"text-align: right;\">\n",
       "      <th></th>\n",
       "      <th>Review</th>\n",
       "      <th>Liked</th>\n",
       "    </tr>\n",
       "  </thead>\n",
       "  <tbody>\n",
       "    <tr>\n",
       "      <th>0</th>\n",
       "      <td>Wow... Loved this place.</td>\n",
       "      <td>1</td>\n",
       "    </tr>\n",
       "    <tr>\n",
       "      <th>1</th>\n",
       "      <td>Crust is not good.</td>\n",
       "      <td>0</td>\n",
       "    </tr>\n",
       "    <tr>\n",
       "      <th>2</th>\n",
       "      <td>Not tasty and the texture was just nasty.</td>\n",
       "      <td>0</td>\n",
       "    </tr>\n",
       "    <tr>\n",
       "      <th>3</th>\n",
       "      <td>Stopped by during the late May bank holiday of...</td>\n",
       "      <td>1</td>\n",
       "    </tr>\n",
       "    <tr>\n",
       "      <th>4</th>\n",
       "      <td>The selection on the menu was great and so wer...</td>\n",
       "      <td>1</td>\n",
       "    </tr>\n",
       "  </tbody>\n",
       "</table>\n",
       "</div>"
      ],
      "text/plain": [
       "                                              Review  Liked\n",
       "0                           Wow... Loved this place.      1\n",
       "1                                 Crust is not good.      0\n",
       "2          Not tasty and the texture was just nasty.      0\n",
       "3  Stopped by during the late May bank holiday of...      1\n",
       "4  The selection on the menu was great and so wer...      1"
      ]
     },
     "execution_count": 3,
     "metadata": {},
     "output_type": "execute_result"
    }
   ],
   "source": [
    "dataset.head()"
   ]
  },
  {
   "cell_type": "markdown",
   "metadata": {
    "colab_type": "text",
    "id": "Qekztq71CixT"
   },
   "source": [
    "## Cleaning the texts"
   ]
  },
  {
   "cell_type": "code",
   "execution_count": 4,
   "metadata": {
    "colab": {
     "base_uri": "https://localhost:8080/",
     "height": 50
    },
    "colab_type": "code",
    "executionInfo": {
     "elapsed": 3342,
     "status": "ok",
     "timestamp": 1586421521761,
     "user": {
      "displayName": "Hadelin de Ponteves",
      "photoUrl": "https://lh3.googleusercontent.com/a-/AOh14GhEuXdT7eQweUmRPW8_laJuPggSK6hfvpl5a6WBaA=s64",
      "userId": "15047218817161520419"
     },
     "user_tz": -240
    },
    "id": "8u_yXh9dCmEE",
    "outputId": "59406636-e0c4-4547-c918-42ae30c11642"
   },
   "outputs": [
    {
     "name": "stderr",
     "output_type": "stream",
     "text": [
      "[nltk_data] Downloading package stopwords to\n",
      "[nltk_data]     C:\\Users\\Jayesh\\AppData\\Roaming\\nltk_data...\n",
      "[nltk_data]   Package stopwords is already up-to-date!\n"
     ]
    }
   ],
   "source": [
    "import re\n",
    "import nltk\n",
    "nltk.download('stopwords')\n",
    "from nltk.corpus import stopwords\n",
    "from nltk.stem.porter import PorterStemmer\n",
    "corpus = []\n",
    "for i in range(0, 1000):\n",
    "    review = re.sub('[^a-zA-Z]', ' ', dataset['Review'][i])\n",
    "    review = review.lower()\n",
    "    review = review.split()\n",
    "    ps = PorterStemmer()\n",
    "    review = [ps.stem(word) for word in review if not word in set(stopwords.words('english'))]\n",
    "    review = ' '.join(review)\n",
    "    corpus.append(review)"
   ]
  },
  {
   "cell_type": "markdown",
   "metadata": {
    "colab_type": "text",
    "id": "CLqmAkANCp1-"
   },
   "source": [
    "## Creating the Bag of Words model"
   ]
  },
  {
   "cell_type": "code",
   "execution_count": 5,
   "metadata": {
    "colab": {},
    "colab_type": "code",
    "id": "qroF7XcSCvY3"
   },
   "outputs": [],
   "source": [
    "from sklearn.feature_extraction.text import CountVectorizer\n",
    "cv = CountVectorizer(max_features = 1500)\n",
    "X = cv.fit_transform(corpus).toarray()\n",
    "y = dataset.iloc[:, 1].values"
   ]
  },
  {
   "cell_type": "code",
   "execution_count": 6,
   "metadata": {},
   "outputs": [],
   "source": [
    "### In dataframe form"
   ]
  },
  {
   "cell_type": "code",
   "execution_count": 7,
   "metadata": {},
   "outputs": [],
   "source": [
    "from sklearn.preprocessing import StandardScaler\n",
    "sc = StandardScaler()\n",
    "X = sc.fit_transform(X)"
   ]
  },
  {
   "cell_type": "markdown",
   "metadata": {
    "colab_type": "text",
    "id": "DH_VjgPzC2cd"
   },
   "source": [
    "#### Splitting the dataset into the Training set and Test set"
   ]
  },
  {
   "cell_type": "code",
   "execution_count": 8,
   "metadata": {},
   "outputs": [],
   "source": [
    "from sklearn.model_selection import train_test_split\n",
    "X_train, X_test, y_train, y_test = train_test_split(X, y, test_size = 0.20, random_state = 0)"
   ]
  },
  {
   "cell_type": "markdown",
   "metadata": {},
   "source": [
    "# Machine Learning Approch"
   ]
  },
  {
   "cell_type": "markdown",
   "metadata": {
    "colab_type": "text",
    "id": "VkIq23vEDIPt"
   },
   "source": [
    "#### Training the Naive Bayes model on the Training set"
   ]
  },
  {
   "cell_type": "code",
   "execution_count": 9,
   "metadata": {
    "colab": {},
    "colab_type": "code",
    "id": "qQXYM5VzDDDI"
   },
   "outputs": [
    {
     "name": "stdout",
     "output_type": "stream",
     "text": [
      "[[53 44]\n",
      " [18 85]]\n"
     ]
    }
   ],
   "source": [
    "from sklearn.naive_bayes import GaussianNB\n",
    "classifier = GaussianNB()\n",
    "classifier.fit(X_train, y_train)\n",
    "y_pred = classifier.predict(X_test)\n",
    "\n",
    "from sklearn.metrics import confusion_matrix\n",
    "cm = confusion_matrix(y_test, y_pred)\n",
    "print(cm)"
   ]
  },
  {
   "cell_type": "markdown",
   "metadata": {},
   "source": [
    "### Accuracy"
   ]
  },
  {
   "cell_type": "code",
   "execution_count": 10,
   "metadata": {},
   "outputs": [
    {
     "name": "stdout",
     "output_type": "stream",
     "text": [
      "Accuracy :  0.69\n"
     ]
    }
   ],
   "source": [
    "from sklearn.metrics import accuracy_score\n",
    "print(\"Accuracy : \",accuracy_score(y_test, y_pred))"
   ]
  },
  {
   "cell_type": "markdown",
   "metadata": {},
   "source": [
    "# Deep Learning Approch"
   ]
  },
  {
   "cell_type": "code",
   "execution_count": 11,
   "metadata": {},
   "outputs": [
    {
     "name": "stdout",
     "output_type": "stream",
     "text": [
      "WARNING:tensorflow:From C:\\Users\\Jayesh\\Anaconda3\\lib\\site-packages\\tensorflow\\python\\ops\\init_ops.py:1251: calling VarianceScaling.__init__ (from tensorflow.python.ops.init_ops) with dtype is deprecated and will be removed in a future version.\n",
      "Instructions for updating:\n",
      "Call initializer instance with the dtype argument instead of passing it to the constructor\n",
      "WARNING:tensorflow:From C:\\Users\\Jayesh\\Anaconda3\\lib\\site-packages\\tensorflow\\python\\ops\\nn_impl.py:180: add_dispatch_support.<locals>.wrapper (from tensorflow.python.ops.array_ops) is deprecated and will be removed in a future version.\n",
      "Instructions for updating:\n",
      "Use tf.where in 2.0, which has the same broadcast rule as np.where\n",
      "Epoch 1/100\n",
      "800/800 [==============================] - 1s 2ms/sample - loss: 0.7225 - acc: 0.5325\n",
      "Epoch 2/100\n",
      "800/800 [==============================] - 1s 1ms/sample - loss: 0.3115 - acc: 0.9000\n",
      "Epoch 3/100\n",
      "800/800 [==============================] - 1s 1ms/sample - loss: 0.0824 - acc: 0.9650\n",
      "Epoch 4/100\n",
      "800/800 [==============================] - 1s 1ms/sample - loss: 0.0648 - acc: 0.9837\n",
      "Epoch 5/100\n",
      "800/800 [==============================] - 1s 1ms/sample - loss: 0.0343 - acc: 0.9887\n",
      "Epoch 6/100\n",
      "800/800 [==============================] - 1s 1ms/sample - loss: 0.0245 - acc: 0.9900\n",
      "Epoch 7/100\n",
      "800/800 [==============================] - 1s 1ms/sample - loss: 0.0235 - acc: 0.9925\n",
      "Epoch 8/100\n",
      "800/800 [==============================] - 1s 2ms/sample - loss: 0.0209 - acc: 0.9900\n",
      "Epoch 9/100\n",
      "800/800 [==============================] - 2s 2ms/sample - loss: 0.0199 - acc: 0.9925\n",
      "Epoch 10/100\n",
      "800/800 [==============================] - 1s 2ms/sample - loss: 0.0157 - acc: 0.9925\n",
      "Epoch 11/100\n",
      "800/800 [==============================] - 2s 2ms/sample - loss: 0.0165 - acc: 0.9950\n",
      "Epoch 12/100\n",
      "800/800 [==============================] - 1s 1ms/sample - loss: 0.0150 - acc: 0.9937\n",
      "Epoch 13/100\n",
      "800/800 [==============================] - 2s 2ms/sample - loss: 0.0144 - acc: 0.9950\n",
      "Epoch 14/100\n",
      "800/800 [==============================] - 1s 2ms/sample - loss: 0.0138 - acc: 0.9962\n",
      "Epoch 15/100\n",
      "800/800 [==============================] - 1s 2ms/sample - loss: 0.0133 - acc: 0.9937\n",
      "Epoch 16/100\n",
      "800/800 [==============================] - 1s 1ms/sample - loss: 0.0111 - acc: 0.9950\n",
      "Epoch 17/100\n",
      "800/800 [==============================] - 1s 1ms/sample - loss: 0.0122 - acc: 0.9950\n",
      "Epoch 18/100\n",
      "800/800 [==============================] - 1s 1ms/sample - loss: 0.0125 - acc: 0.9937\n",
      "Epoch 19/100\n",
      "800/800 [==============================] - 1s 1ms/sample - loss: 0.0134 - acc: 0.9950\n",
      "Epoch 20/100\n",
      "800/800 [==============================] - 1s 1ms/sample - loss: 0.0163 - acc: 0.9950\n",
      "Epoch 21/100\n",
      "800/800 [==============================] - 1s 1ms/sample - loss: 0.0101 - acc: 0.9962\n",
      "Epoch 22/100\n",
      "800/800 [==============================] - 1s 1ms/sample - loss: 0.0121 - acc: 0.9950\n",
      "Epoch 23/100\n",
      "800/800 [==============================] - 1s 1ms/sample - loss: 0.0109 - acc: 0.9962\n",
      "Epoch 24/100\n",
      "800/800 [==============================] - 1s 1ms/sample - loss: 0.0096 - acc: 0.9962\n",
      "Epoch 25/100\n",
      "800/800 [==============================] - 1s 1ms/sample - loss: 0.0094 - acc: 0.9962\n",
      "Epoch 26/100\n",
      "800/800 [==============================] - 1s 1ms/sample - loss: 0.0127 - acc: 0.9950\n",
      "Epoch 27/100\n",
      "800/800 [==============================] - 1s 1ms/sample - loss: 0.0249 - acc: 0.9887\n",
      "Epoch 28/100\n",
      "800/800 [==============================] - 1s 1ms/sample - loss: 0.0443 - acc: 0.9850\n",
      "Epoch 29/100\n",
      "800/800 [==============================] - 1s 1ms/sample - loss: 0.0295 - acc: 0.9887\n",
      "Epoch 30/100\n",
      "800/800 [==============================] - 1s 1ms/sample - loss: 0.0195 - acc: 0.9912\n",
      "Epoch 31/100\n",
      "800/800 [==============================] - 1s 1ms/sample - loss: 0.0167 - acc: 0.9925\n",
      "Epoch 32/100\n",
      "800/800 [==============================] - 1s 1ms/sample - loss: 0.0143 - acc: 0.9950\n",
      "Epoch 33/100\n",
      "800/800 [==============================] - 1s 1ms/sample - loss: 0.0120 - acc: 0.9950\n",
      "Epoch 34/100\n",
      "800/800 [==============================] - 1s 1ms/sample - loss: 0.0102 - acc: 0.9937\n",
      "Epoch 35/100\n",
      "800/800 [==============================] - 1s 1ms/sample - loss: 0.0102 - acc: 0.9950\n",
      "Epoch 36/100\n",
      "800/800 [==============================] - 1s 1ms/sample - loss: 0.0112 - acc: 0.9962\n",
      "Epoch 37/100\n",
      "800/800 [==============================] - 1s 1ms/sample - loss: 0.0104 - acc: 0.9950\n",
      "Epoch 38/100\n",
      "800/800 [==============================] - 1s 2ms/sample - loss: 0.0102 - acc: 0.9950\n",
      "Epoch 39/100\n",
      "800/800 [==============================] - 1s 1ms/sample - loss: 0.0099 - acc: 0.9962\n",
      "Epoch 40/100\n",
      "800/800 [==============================] - 1s 2ms/sample - loss: 0.0104 - acc: 0.9962\n",
      "Epoch 41/100\n",
      "800/800 [==============================] - 1s 2ms/sample - loss: 0.0089 - acc: 0.9962\n",
      "Epoch 42/100\n",
      "800/800 [==============================] - 2s 2ms/sample - loss: 0.0130 - acc: 0.9950\n",
      "Epoch 43/100\n",
      "800/800 [==============================] - 1s 2ms/sample - loss: 0.0107 - acc: 0.9950\n",
      "Epoch 44/100\n",
      "800/800 [==============================] - 1s 1ms/sample - loss: 0.0228 - acc: 0.9925\n",
      "Epoch 45/100\n",
      "800/800 [==============================] - 1s 2ms/sample - loss: 0.0692 - acc: 0.9837\n",
      "Epoch 46/100\n",
      "800/800 [==============================] - 1s 1ms/sample - loss: 0.0186 - acc: 0.9925\n",
      "Epoch 47/100\n",
      "800/800 [==============================] - 1s 1ms/sample - loss: 0.0508 - acc: 0.9875\n",
      "Epoch 48/100\n",
      "800/800 [==============================] - 1s 1ms/sample - loss: 0.0182 - acc: 0.9912\n",
      "Epoch 49/100\n",
      "800/800 [==============================] - 1s 1ms/sample - loss: 0.0135 - acc: 0.9937\n",
      "Epoch 50/100\n",
      "800/800 [==============================] - 1s 1ms/sample - loss: 0.0125 - acc: 0.9962\n",
      "Epoch 51/100\n",
      "800/800 [==============================] - 1s 1ms/sample - loss: 0.0101 - acc: 0.9950\n",
      "Epoch 52/100\n",
      "800/800 [==============================] - 1s 1ms/sample - loss: 0.0225 - acc: 0.9937\n",
      "Epoch 53/100\n",
      "800/800 [==============================] - 1s 1ms/sample - loss: 0.0173 - acc: 0.9925\n",
      "Epoch 54/100\n",
      "800/800 [==============================] - 1s 1ms/sample - loss: 0.0118 - acc: 0.9937\n",
      "Epoch 55/100\n",
      "800/800 [==============================] - 1s 1ms/sample - loss: 0.0158 - acc: 0.9912\n",
      "Epoch 56/100\n",
      "800/800 [==============================] - 1s 1ms/sample - loss: 0.0342 - acc: 0.9925\n",
      "Epoch 57/100\n",
      "800/800 [==============================] - 1s 1ms/sample - loss: 0.0130 - acc: 0.9925\n",
      "Epoch 58/100\n",
      "800/800 [==============================] - 1s 1ms/sample - loss: 0.0098 - acc: 0.9962\n",
      "Epoch 59/100\n",
      "800/800 [==============================] - 1s 2ms/sample - loss: 0.0101 - acc: 0.9962\n",
      "Epoch 60/100\n",
      "800/800 [==============================] - 1s 1ms/sample - loss: 0.0091 - acc: 0.9962\n",
      "Epoch 61/100\n",
      "800/800 [==============================] - 1s 1ms/sample - loss: 0.0095 - acc: 0.9962\n",
      "Epoch 62/100\n",
      "800/800 [==============================] - 1s 1ms/sample - loss: 0.0083 - acc: 0.9962\n",
      "Epoch 63/100\n",
      "800/800 [==============================] - 1s 1ms/sample - loss: 0.0165 - acc: 0.9962\n",
      "Epoch 64/100\n",
      "800/800 [==============================] - 1s 1ms/sample - loss: 0.0140 - acc: 0.9912\n",
      "Epoch 65/100\n",
      "800/800 [==============================] - 1s 1ms/sample - loss: 0.0111 - acc: 0.9937\n",
      "Epoch 66/100\n",
      "800/800 [==============================] - 1s 1ms/sample - loss: 0.0101 - acc: 0.9950\n",
      "Epoch 67/100\n",
      "800/800 [==============================] - 1s 1ms/sample - loss: 0.0090 - acc: 0.9962\n",
      "Epoch 68/100\n",
      "800/800 [==============================] - 1s 1ms/sample - loss: 0.0090 - acc: 0.9962\n",
      "Epoch 69/100\n",
      "800/800 [==============================] - 2s 2ms/sample - loss: 0.0084 - acc: 0.9962\n",
      "Epoch 70/100\n",
      "800/800 [==============================] - 2s 2ms/sample - loss: 0.0078 - acc: 0.9962\n",
      "Epoch 71/100\n",
      "800/800 [==============================] - 2s 3ms/sample - loss: 0.0076 - acc: 0.9962\n",
      "Epoch 72/100\n",
      "800/800 [==============================] - 1s 2ms/sample - loss: 0.0148 - acc: 0.9962\n",
      "Epoch 73/100\n",
      "800/800 [==============================] - 1s 2ms/sample - loss: 0.0120 - acc: 0.9962\n",
      "Epoch 74/100\n",
      "800/800 [==============================] - 2s 2ms/sample - loss: 0.0108 - acc: 0.9962\n",
      "Epoch 75/100\n",
      "800/800 [==============================] - 1s 1ms/sample - loss: 0.0090 - acc: 0.9962\n",
      "Epoch 76/100\n"
     ]
    },
    {
     "name": "stdout",
     "output_type": "stream",
     "text": [
      "800/800 [==============================] - 1s 1ms/sample - loss: 0.0090 - acc: 0.9962\n",
      "Epoch 77/100\n",
      "800/800 [==============================] - 1s 1ms/sample - loss: 0.0085 - acc: 0.9962\n",
      "Epoch 78/100\n",
      "800/800 [==============================] - 1s 1ms/sample - loss: 0.0082 - acc: 0.9962\n",
      "Epoch 79/100\n",
      "800/800 [==============================] - 1s 1ms/sample - loss: 0.0092 - acc: 0.9962\n",
      "Epoch 80/100\n",
      "800/800 [==============================] - 1s 1ms/sample - loss: 0.0092 - acc: 0.9950\n",
      "Epoch 81/100\n",
      "800/800 [==============================] - 1s 2ms/sample - loss: 0.0104 - acc: 0.9962\n",
      "Epoch 82/100\n",
      "800/800 [==============================] - 1s 1ms/sample - loss: 0.0081 - acc: 0.9962\n",
      "Epoch 83/100\n",
      "800/800 [==============================] - 1s 2ms/sample - loss: 0.0083 - acc: 0.9962\n",
      "Epoch 84/100\n",
      "800/800 [==============================] - 1s 2ms/sample - loss: 0.0083 - acc: 0.9962\n",
      "Epoch 85/100\n",
      "800/800 [==============================] - 1s 2ms/sample - loss: 0.0079 - acc: 0.9962\n",
      "Epoch 86/100\n",
      "800/800 [==============================] - 1s 1ms/sample - loss: 0.0102 - acc: 0.9962\n",
      "Epoch 87/100\n",
      "800/800 [==============================] - 1s 1ms/sample - loss: 0.0083 - acc: 0.9962 0s - loss: 0.0070 - acc:\n",
      "Epoch 88/100\n",
      "800/800 [==============================] - 1s 1ms/sample - loss: 0.0090 - acc: 0.9962\n",
      "Epoch 89/100\n",
      "800/800 [==============================] - 1s 1ms/sample - loss: 0.0084 - acc: 0.9962\n",
      "Epoch 90/100\n",
      "800/800 [==============================] - 1s 2ms/sample - loss: 0.0078 - acc: 0.9962\n",
      "Epoch 91/100\n",
      "800/800 [==============================] - 1s 1ms/sample - loss: 0.0096 - acc: 0.9962\n",
      "Epoch 92/100\n",
      "800/800 [==============================] - 1s 1ms/sample - loss: 0.0091 - acc: 0.9962\n",
      "Epoch 93/100\n",
      "800/800 [==============================] - 2s 2ms/sample - loss: 0.0082 - acc: 0.9962\n",
      "Epoch 94/100\n",
      "800/800 [==============================] - 1s 1ms/sample - loss: 0.0087 - acc: 0.9962\n",
      "Epoch 95/100\n",
      "800/800 [==============================] - 1s 1ms/sample - loss: 0.0084 - acc: 0.9962\n",
      "Epoch 96/100\n",
      "800/800 [==============================] - 1s 1ms/sample - loss: 0.0089 - acc: 0.9962\n",
      "Epoch 97/100\n",
      "800/800 [==============================] - 2s 2ms/sample - loss: 0.0077 - acc: 0.9962\n",
      "Epoch 98/100\n",
      "800/800 [==============================] - 1s 2ms/sample - loss: 0.0077 - acc: 0.9962\n",
      "Epoch 99/100\n",
      "800/800 [==============================] - 1s 2ms/sample - loss: 0.0077 - acc: 0.9962\n",
      "Epoch 100/100\n",
      "800/800 [==============================] - 1s 1ms/sample - loss: 0.0087 - acc: 0.9962\n",
      "[[75 22]\n",
      " [30 73]]\n"
     ]
    }
   ],
   "source": [
    "ann = tf.keras.models.Sequential()\n",
    "ann.add(tf.keras.layers.Dense(units=1500, activation='relu'))\n",
    "ann.add(tf.keras.layers.Dense(units=1000, activation='relu'))\n",
    "ann.add(tf.keras.layers.Dense(units=500, activation='relu'))\n",
    "ann.add(tf.keras.layers.Dense(units=100, activation='relu'))\n",
    "ann.add(tf.keras.layers.Dense(units=50, activation='relu'))\n",
    "ann.add(tf.keras.layers.Dense(units=10, activation='relu'))\n",
    "ann.add(tf.keras.layers.Dense(units=1, activation='sigmoid'))\n",
    "ann.compile(optimizer = 'adam', loss = 'binary_crossentropy', metrics = ['accuracy'])\n",
    "ann.fit(X_train, y_train, batch_size = 32, epochs = 100)\n",
    "y_pred = ann.predict(X_test)\n",
    "y_pred = (y_pred > 0.5)\n",
    "#print(np.concatenate((y_pred.reshape(len(y_pred),1), y_test.reshape(len(y_test),1)),1))\n",
    "from sklearn.metrics import confusion_matrix\n",
    "cm = confusion_matrix(y_test, y_pred)\n",
    "print(cm)\n"
   ]
  },
  {
   "cell_type": "markdown",
   "metadata": {},
   "source": [
    "### Accuracy"
   ]
  },
  {
   "cell_type": "code",
   "execution_count": 12,
   "metadata": {},
   "outputs": [
    {
     "name": "stdout",
     "output_type": "stream",
     "text": [
      "Accuracy :  0.74\n"
     ]
    }
   ],
   "source": [
    "from sklearn.metrics import accuracy_score\n",
    "print(\"Accuracy : \",accuracy_score(y_test, y_pred))"
   ]
  }
 ],
 "metadata": {
  "colab": {
   "authorship_tag": "ABX9TyM9tx3HllsdwqqTLZQw/zx5",
   "collapsed_sections": [],
   "name": "Natural Language Processing",
   "provenance": [],
   "toc_visible": true
  },
  "kernelspec": {
   "display_name": "Python 3",
   "language": "python",
   "name": "python3"
  },
  "language_info": {
   "codemirror_mode": {
    "name": "ipython",
    "version": 3
   },
   "file_extension": ".py",
   "mimetype": "text/x-python",
   "name": "python",
   "nbconvert_exporter": "python",
   "pygments_lexer": "ipython3",
   "version": "3.7.4"
  }
 },
 "nbformat": 4,
 "nbformat_minor": 1
}
